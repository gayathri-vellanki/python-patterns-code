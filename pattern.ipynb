{
 "cells": [
  {
   "cell_type": "code",
   "execution_count": 1,
   "id": "f6a16f22",
   "metadata": {},
   "outputs": [
    {
     "name": "stdout",
     "output_type": "stream",
     "text": [
      "*\n",
      "**\n",
      "***\n",
      "****\n",
      "*****\n"
     ]
    }
   ],
   "source": [
    "def pat(n):\n",
    "    for i in range(0,n):\n",
    "        for j in range(0,i+1):\n",
    "            print(\"*\",end=\"\")\n",
    "        print(\"\\r\")\n",
    "n=5\n",
    "pat(n)"
   ]
  },
  {
   "cell_type": "code",
   "execution_count": 7,
   "id": "bb77407b",
   "metadata": {},
   "outputs": [
    {
     "name": "stdout",
     "output_type": "stream",
     "text": [
      "*\n",
      "**\n",
      "***\n",
      "****\n",
      "*****\n"
     ]
    }
   ],
   "source": [
    "#using Recursion\n",
    "def pat(n):\n",
    "    if n==0:\n",
    "        return\n",
    "    else:\n",
    "        pat(n-1)\n",
    "        print(\"*\"*n)\n",
    "n=5\n",
    "pat(n)"
   ]
  },
  {
   "cell_type": "code",
   "execution_count": 8,
   "id": "1de96093",
   "metadata": {},
   "outputs": [
    {
     "name": "stdout",
     "output_type": "stream",
     "text": [
      "*\r\n",
      "**\r\n",
      "***\r\n",
      "****\r\n",
      "*****\r\n"
     ]
    }
   ],
   "source": [
    "n=5\n",
    "i=1\n",
    "j=0\n",
    "while(i<=n):\n",
    "    while(j<=i-1):\n",
    "        print(\"*\",end=\"\")\n",
    "        j+=1\n",
    "    print(\"\\r\")\n",
    "    j=0\n",
    "    i+=1"
   ]
  },
  {
   "cell_type": "code",
   "execution_count": 18,
   "id": "919ccf34",
   "metadata": {},
   "outputs": [
    {
     "name": "stdout",
     "output_type": "stream",
     "text": [
      "* \n",
      "* * \n",
      "* * * \n",
      "* * * * \n",
      "* * * * * \n"
     ]
    }
   ],
   "source": [
    "def pat(n):\n",
    "    for i in range(1,n+1):\n",
    "        print(\"* \"*i)\n",
    "n=5\n",
    "pat(n)"
   ]
  },
  {
   "cell_type": "code",
   "execution_count": 17,
   "id": "8e12151b",
   "metadata": {},
   "outputs": [
    {
     "name": "stdout",
     "output_type": "stream",
     "text": [
      "* * * * * \r\n",
      "* * * * \r\n",
      "* * * \r\n",
      "* * \r\n",
      "* \r\n"
     ]
    }
   ],
   "source": [
    "def pat(n):\n",
    "    for i in range(n,0,-1):\n",
    "        for j in range(i):\n",
    "            print(\"* \",end=\"\")\n",
    "        print(\"\\r\")\n",
    "n=5\n",
    "pat(n)"
   ]
  },
  {
   "cell_type": "code",
   "execution_count": 16,
   "id": "a4dc7b92",
   "metadata": {},
   "outputs": [
    {
     "name": "stdout",
     "output_type": "stream",
     "text": [
      "    *\n",
      "   **\n",
      "  ***\n",
      " ****\n",
      "*****\n"
     ]
    }
   ],
   "source": [
    "def pat(n):\n",
    "    for i in range(1,n+1):\n",
    "        print(\" \"*(n-i)+\"*\"*i)\n",
    "n=5\n",
    "pat(n)"
   ]
  },
  {
   "cell_type": "code",
   "execution_count": 14,
   "id": "5a0ae966",
   "metadata": {},
   "outputs": [
    {
     "name": "stdout",
     "output_type": "stream",
     "text": [
      "         *  \r\n",
      "       *   *  \r\n",
      "     *   *   *  \r\n",
      "   *   *   *   *  \r\n",
      " *   *   *   *   *  \r\n"
     ]
    }
   ],
   "source": [
    "def pyr(n):\n",
    "    k=2*n - 2\n",
    "    for i in range(0,n):\n",
    "        for j in range(0,k):\n",
    "            print(end=\" \")\n",
    "        k=k-2\n",
    "        for j in range(0,i+1):\n",
    "            print(\" * \",end=\" \")\n",
    "        print(\"\\r\")\n",
    "n=5\n",
    "pyr(n)\n",
    "    "
   ]
  },
  {
   "cell_type": "code",
   "execution_count": 22,
   "id": "7c563dfc",
   "metadata": {},
   "outputs": [
    {
     "name": "stdout",
     "output_type": "stream",
     "text": [
      "1\r\n",
      "12\r\n",
      "123\r\n",
      "1234\r\n",
      "12345\r\n"
     ]
    }
   ],
   "source": [
    "def pat(n):\n",
    "    for i in range(1,n+1):\n",
    "        for j in range(1,i+1):\n",
    "            print(j,end=\"\")\n",
    "        print(\"\\r\")\n",
    "n=5\n",
    "pat(n)"
   ]
  },
  {
   "cell_type": "code",
   "execution_count": 24,
   "id": "f0708c49",
   "metadata": {},
   "outputs": [
    {
     "name": "stdout",
     "output_type": "stream",
     "text": [
      "1 \r\n",
      "2 3 \r\n",
      "4 5 6 \r\n",
      "7 8 9 10 \r\n",
      "11 12 13 14 15 \r\n"
     ]
    }
   ],
   "source": [
    "def pat(n):\n",
    "    k=1\n",
    "    for i in range(1,n+1):\n",
    "        for j in range(1,i+1):\n",
    "            print(k,end=\" \")\n",
    "            k+=1\n",
    "        print(\"\\r\")\n",
    "n=5\n",
    "pat(n)"
   ]
  },
  {
   "cell_type": "code",
   "execution_count": 26,
   "id": "b40877da",
   "metadata": {},
   "outputs": [
    {
     "name": "stdout",
     "output_type": "stream",
     "text": [
      "A \r\n",
      "B B \r\n",
      "C C C \r\n",
      "D D D D \r\n",
      "E E E E E \r\n"
     ]
    }
   ],
   "source": [
    "def pat(n):\n",
    "    k=ord('A')\n",
    "    for i in range(1,n+1):\n",
    "        for j in range(1,i+1):\n",
    "            print(chr(k),end=\" \")\n",
    "        k+=1\n",
    "        print(\"\\r\")\n",
    "n=5\n",
    "pat(n)"
   ]
  },
  {
   "cell_type": "code",
   "execution_count": 27,
   "id": "4fb2e446",
   "metadata": {},
   "outputs": [
    {
     "name": "stdout",
     "output_type": "stream",
     "text": [
      "A \r\n",
      "B C \r\n",
      "D E F \r\n",
      "G H I J \r\n",
      "K L M N O \r\n"
     ]
    }
   ],
   "source": [
    "def pat(n):\n",
    "    k=ord('A')\n",
    "    for i in range(1,n+1):\n",
    "        for j in range(1,i+1):\n",
    "            print(chr(k),end=\" \")\n",
    "            k+=1\n",
    "        print(\"\\r\")\n",
    "n=5\n",
    "pat(n)"
   ]
  },
  {
   "cell_type": "code",
   "execution_count": null,
   "id": "4078ed8d",
   "metadata": {},
   "outputs": [],
   "source": []
  }
 ],
 "metadata": {
  "kernelspec": {
   "display_name": "Python 3",
   "language": "python",
   "name": "python3"
  },
  "language_info": {
   "codemirror_mode": {
    "name": "ipython",
    "version": 3
   },
   "file_extension": ".py",
   "mimetype": "text/x-python",
   "name": "python",
   "nbconvert_exporter": "python",
   "pygments_lexer": "ipython3",
   "version": "3.9.8"
  }
 },
 "nbformat": 4,
 "nbformat_minor": 5
}
